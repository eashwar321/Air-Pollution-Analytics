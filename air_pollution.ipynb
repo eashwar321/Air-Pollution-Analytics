{
 "cells": [
  {
   "cell_type": "code",
   "execution_count": 2,
   "metadata": {},
   "outputs": [],
   "source": [
    "import pandas as pd\n",
    "import numpy as np\n",
    "import plotly.express as px\n",
    "import seaborn as sns\n",
    "import matplotlib.pyplot as plt\n",
    "import warnings\n",
    "warnings.filterwarnings(\"ignore\")"
   ]
  },
  {
   "cell_type": "code",
   "execution_count": 3,
   "metadata": {},
   "outputs": [],
   "source": [
    "# Seed value\n",
    "# Apparently you may use different seed values at each stage\n",
    "seed_value= 0\n",
    "\n",
    "# 1. Set the `PYTHONHASHSEED` environment variable at a fixed value\n",
    "import os\n",
    "os.environ['PYTHONHASHSEED']=str(seed_value)\n",
    "\n",
    "# 2. Set the `python` built-in pseudo-random generator at a fixed value\n",
    "import random\n",
    "random.seed(seed_value)\n",
    "\n",
    "# 3. Set the `numpy` pseudo-random generator at a fixed value\n",
    "\n",
    "np.random.seed(seed_value)"
   ]
  },
  {
   "cell_type": "code",
   "execution_count": 4,
   "metadata": {},
   "outputs": [
    {
     "data": {
      "text/html": [
       "<div>\n",
       "<style scoped>\n",
       "    .dataframe tbody tr th:only-of-type {\n",
       "        vertical-align: middle;\n",
       "    }\n",
       "\n",
       "    .dataframe tbody tr th {\n",
       "        vertical-align: top;\n",
       "    }\n",
       "\n",
       "    .dataframe thead th {\n",
       "        text-align: right;\n",
       "    }\n",
       "</style>\n",
       "<table border=\"1\" class=\"dataframe\">\n",
       "  <thead>\n",
       "    <tr style=\"text-align: right;\">\n",
       "      <th></th>\n",
       "      <th>stn_code</th>\n",
       "      <th>sampling_date</th>\n",
       "      <th>state</th>\n",
       "      <th>location</th>\n",
       "      <th>agency</th>\n",
       "      <th>type</th>\n",
       "      <th>so2</th>\n",
       "      <th>no2</th>\n",
       "      <th>rspm</th>\n",
       "      <th>spm</th>\n",
       "      <th>location_monitoring_station</th>\n",
       "      <th>pm2_5</th>\n",
       "      <th>date</th>\n",
       "    </tr>\n",
       "  </thead>\n",
       "  <tbody>\n",
       "    <tr>\n",
       "      <th>0</th>\n",
       "      <td>150.0</td>\n",
       "      <td>February - M021990</td>\n",
       "      <td>Andhra Pradesh</td>\n",
       "      <td>Hyderabad</td>\n",
       "      <td>None</td>\n",
       "      <td>Residential, Rural and other Areas</td>\n",
       "      <td>4.8</td>\n",
       "      <td>17.4</td>\n",
       "      <td>NaN</td>\n",
       "      <td>NaN</td>\n",
       "      <td>None</td>\n",
       "      <td>NaN</td>\n",
       "      <td>1990-02-01</td>\n",
       "    </tr>\n",
       "    <tr>\n",
       "      <th>1</th>\n",
       "      <td>151.0</td>\n",
       "      <td>February - M021990</td>\n",
       "      <td>Andhra Pradesh</td>\n",
       "      <td>Hyderabad</td>\n",
       "      <td>None</td>\n",
       "      <td>Industrial Area</td>\n",
       "      <td>3.1</td>\n",
       "      <td>7.0</td>\n",
       "      <td>NaN</td>\n",
       "      <td>NaN</td>\n",
       "      <td>None</td>\n",
       "      <td>NaN</td>\n",
       "      <td>1990-02-01</td>\n",
       "    </tr>\n",
       "    <tr>\n",
       "      <th>2</th>\n",
       "      <td>152.0</td>\n",
       "      <td>February - M021990</td>\n",
       "      <td>Andhra Pradesh</td>\n",
       "      <td>Hyderabad</td>\n",
       "      <td>None</td>\n",
       "      <td>Residential, Rural and other Areas</td>\n",
       "      <td>6.2</td>\n",
       "      <td>28.5</td>\n",
       "      <td>NaN</td>\n",
       "      <td>NaN</td>\n",
       "      <td>None</td>\n",
       "      <td>NaN</td>\n",
       "      <td>1990-02-01</td>\n",
       "    </tr>\n",
       "    <tr>\n",
       "      <th>3</th>\n",
       "      <td>150.0</td>\n",
       "      <td>March - M031990</td>\n",
       "      <td>Andhra Pradesh</td>\n",
       "      <td>Hyderabad</td>\n",
       "      <td>None</td>\n",
       "      <td>Residential, Rural and other Areas</td>\n",
       "      <td>6.3</td>\n",
       "      <td>14.7</td>\n",
       "      <td>NaN</td>\n",
       "      <td>NaN</td>\n",
       "      <td>None</td>\n",
       "      <td>NaN</td>\n",
       "      <td>1990-03-01</td>\n",
       "    </tr>\n",
       "    <tr>\n",
       "      <th>4</th>\n",
       "      <td>151.0</td>\n",
       "      <td>March - M031990</td>\n",
       "      <td>Andhra Pradesh</td>\n",
       "      <td>Hyderabad</td>\n",
       "      <td>None</td>\n",
       "      <td>Industrial Area</td>\n",
       "      <td>4.7</td>\n",
       "      <td>7.5</td>\n",
       "      <td>NaN</td>\n",
       "      <td>NaN</td>\n",
       "      <td>None</td>\n",
       "      <td>NaN</td>\n",
       "      <td>1990-03-01</td>\n",
       "    </tr>\n",
       "  </tbody>\n",
       "</table>\n",
       "</div>"
      ],
      "text/plain": [
       "  stn_code       sampling_date           state   location agency  \\\n",
       "0    150.0  February - M021990  Andhra Pradesh  Hyderabad   None   \n",
       "1    151.0  February - M021990  Andhra Pradesh  Hyderabad   None   \n",
       "2    152.0  February - M021990  Andhra Pradesh  Hyderabad   None   \n",
       "3    150.0     March - M031990  Andhra Pradesh  Hyderabad   None   \n",
       "4    151.0     March - M031990  Andhra Pradesh  Hyderabad   None   \n",
       "\n",
       "                                 type  so2   no2  rspm  spm  \\\n",
       "0  Residential, Rural and other Areas  4.8  17.4   NaN  NaN   \n",
       "1                     Industrial Area  3.1   7.0   NaN  NaN   \n",
       "2  Residential, Rural and other Areas  6.2  28.5   NaN  NaN   \n",
       "3  Residential, Rural and other Areas  6.3  14.7   NaN  NaN   \n",
       "4                     Industrial Area  4.7   7.5   NaN  NaN   \n",
       "\n",
       "  location_monitoring_station  pm2_5        date  \n",
       "0                        None    NaN  1990-02-01  \n",
       "1                        None    NaN  1990-02-01  \n",
       "2                        None    NaN  1990-02-01  \n",
       "3                        None    NaN  1990-03-01  \n",
       "4                        None    NaN  1990-03-01  "
      ]
     },
     "execution_count": 4,
     "metadata": {},
     "output_type": "execute_result"
    }
   ],
   "source": [
    "# df = pd.read_csv(\"data.csv\", index_col=0)\n",
    "df = pd.read_parquet(\"data.parquet\")\n",
    "df.head()"
   ]
  },
  {
   "cell_type": "code",
   "execution_count": 5,
   "metadata": {},
   "outputs": [],
   "source": [
    "from datetime import datetime"
   ]
  },
  {
   "cell_type": "markdown",
   "metadata": {},
   "source": [
    "# Converting the date field which was of string type into a datetime format field"
   ]
  },
  {
   "cell_type": "code",
   "execution_count": 6,
   "metadata": {},
   "outputs": [],
   "source": [
    "df[\"date\"] = pd.to_datetime(df[\"date\"])"
   ]
  },
  {
   "cell_type": "code",
   "execution_count": 7,
   "metadata": {},
   "outputs": [
    {
     "data": {
      "text/html": [
       "<div>\n",
       "<style scoped>\n",
       "    .dataframe tbody tr th:only-of-type {\n",
       "        vertical-align: middle;\n",
       "    }\n",
       "\n",
       "    .dataframe tbody tr th {\n",
       "        vertical-align: top;\n",
       "    }\n",
       "\n",
       "    .dataframe thead th {\n",
       "        text-align: right;\n",
       "    }\n",
       "</style>\n",
       "<table border=\"1\" class=\"dataframe\">\n",
       "  <thead>\n",
       "    <tr style=\"text-align: right;\">\n",
       "      <th></th>\n",
       "      <th>stn_code</th>\n",
       "      <th>sampling_date</th>\n",
       "      <th>state</th>\n",
       "      <th>location</th>\n",
       "      <th>agency</th>\n",
       "      <th>type</th>\n",
       "      <th>so2</th>\n",
       "      <th>no2</th>\n",
       "      <th>rspm</th>\n",
       "      <th>spm</th>\n",
       "      <th>location_monitoring_station</th>\n",
       "      <th>pm2_5</th>\n",
       "      <th>date</th>\n",
       "    </tr>\n",
       "  </thead>\n",
       "  <tbody>\n",
       "    <tr>\n",
       "      <th>0</th>\n",
       "      <td>150.0</td>\n",
       "      <td>February - M021990</td>\n",
       "      <td>Andhra Pradesh</td>\n",
       "      <td>Hyderabad</td>\n",
       "      <td>None</td>\n",
       "      <td>Residential, Rural and other Areas</td>\n",
       "      <td>4.8</td>\n",
       "      <td>17.4</td>\n",
       "      <td>NaN</td>\n",
       "      <td>NaN</td>\n",
       "      <td>None</td>\n",
       "      <td>NaN</td>\n",
       "      <td>1990-02-01</td>\n",
       "    </tr>\n",
       "    <tr>\n",
       "      <th>1</th>\n",
       "      <td>151.0</td>\n",
       "      <td>February - M021990</td>\n",
       "      <td>Andhra Pradesh</td>\n",
       "      <td>Hyderabad</td>\n",
       "      <td>None</td>\n",
       "      <td>Industrial Area</td>\n",
       "      <td>3.1</td>\n",
       "      <td>7.0</td>\n",
       "      <td>NaN</td>\n",
       "      <td>NaN</td>\n",
       "      <td>None</td>\n",
       "      <td>NaN</td>\n",
       "      <td>1990-02-01</td>\n",
       "    </tr>\n",
       "    <tr>\n",
       "      <th>2</th>\n",
       "      <td>152.0</td>\n",
       "      <td>February - M021990</td>\n",
       "      <td>Andhra Pradesh</td>\n",
       "      <td>Hyderabad</td>\n",
       "      <td>None</td>\n",
       "      <td>Residential, Rural and other Areas</td>\n",
       "      <td>6.2</td>\n",
       "      <td>28.5</td>\n",
       "      <td>NaN</td>\n",
       "      <td>NaN</td>\n",
       "      <td>None</td>\n",
       "      <td>NaN</td>\n",
       "      <td>1990-02-01</td>\n",
       "    </tr>\n",
       "    <tr>\n",
       "      <th>3</th>\n",
       "      <td>150.0</td>\n",
       "      <td>March - M031990</td>\n",
       "      <td>Andhra Pradesh</td>\n",
       "      <td>Hyderabad</td>\n",
       "      <td>None</td>\n",
       "      <td>Residential, Rural and other Areas</td>\n",
       "      <td>6.3</td>\n",
       "      <td>14.7</td>\n",
       "      <td>NaN</td>\n",
       "      <td>NaN</td>\n",
       "      <td>None</td>\n",
       "      <td>NaN</td>\n",
       "      <td>1990-03-01</td>\n",
       "    </tr>\n",
       "    <tr>\n",
       "      <th>4</th>\n",
       "      <td>151.0</td>\n",
       "      <td>March - M031990</td>\n",
       "      <td>Andhra Pradesh</td>\n",
       "      <td>Hyderabad</td>\n",
       "      <td>None</td>\n",
       "      <td>Industrial Area</td>\n",
       "      <td>4.7</td>\n",
       "      <td>7.5</td>\n",
       "      <td>NaN</td>\n",
       "      <td>NaN</td>\n",
       "      <td>None</td>\n",
       "      <td>NaN</td>\n",
       "      <td>1990-03-01</td>\n",
       "    </tr>\n",
       "  </tbody>\n",
       "</table>\n",
       "</div>"
      ],
      "text/plain": [
       "  stn_code       sampling_date           state   location agency  \\\n",
       "0    150.0  February - M021990  Andhra Pradesh  Hyderabad   None   \n",
       "1    151.0  February - M021990  Andhra Pradesh  Hyderabad   None   \n",
       "2    152.0  February - M021990  Andhra Pradesh  Hyderabad   None   \n",
       "3    150.0     March - M031990  Andhra Pradesh  Hyderabad   None   \n",
       "4    151.0     March - M031990  Andhra Pradesh  Hyderabad   None   \n",
       "\n",
       "                                 type  so2   no2  rspm  spm  \\\n",
       "0  Residential, Rural and other Areas  4.8  17.4   NaN  NaN   \n",
       "1                     Industrial Area  3.1   7.0   NaN  NaN   \n",
       "2  Residential, Rural and other Areas  6.2  28.5   NaN  NaN   \n",
       "3  Residential, Rural and other Areas  6.3  14.7   NaN  NaN   \n",
       "4                     Industrial Area  4.7   7.5   NaN  NaN   \n",
       "\n",
       "  location_monitoring_station  pm2_5       date  \n",
       "0                        None    NaN 1990-02-01  \n",
       "1                        None    NaN 1990-02-01  \n",
       "2                        None    NaN 1990-02-01  \n",
       "3                        None    NaN 1990-03-01  \n",
       "4                        None    NaN 1990-03-01  "
      ]
     },
     "execution_count": 7,
     "metadata": {},
     "output_type": "execute_result"
    }
   ],
   "source": [
    "df.head()"
   ]
  },
  {
   "cell_type": "code",
   "execution_count": 8,
   "metadata": {},
   "outputs": [
    {
     "data": {
      "text/plain": [
       "stn_code                               object\n",
       "sampling_date                          object\n",
       "state                                  object\n",
       "location                               object\n",
       "agency                                 object\n",
       "type                                   object\n",
       "so2                                   float64\n",
       "no2                                   float64\n",
       "rspm                                  float64\n",
       "spm                                   float64\n",
       "location_monitoring_station            object\n",
       "pm2_5                                 float64\n",
       "date                           datetime64[ns]\n",
       "dtype: object"
      ]
     },
     "execution_count": 8,
     "metadata": {},
     "output_type": "execute_result"
    }
   ],
   "source": [
    "df.dtypes"
   ]
  },
  {
   "cell_type": "markdown",
   "metadata": {},
   "source": [
    "# Dropping the field sampling date as it contains the same values of the date field."
   ]
  },
  {
   "cell_type": "code",
   "execution_count": 9,
   "metadata": {},
   "outputs": [
    {
     "data": {
      "text/html": [
       "<div>\n",
       "<style scoped>\n",
       "    .dataframe tbody tr th:only-of-type {\n",
       "        vertical-align: middle;\n",
       "    }\n",
       "\n",
       "    .dataframe tbody tr th {\n",
       "        vertical-align: top;\n",
       "    }\n",
       "\n",
       "    .dataframe thead th {\n",
       "        text-align: right;\n",
       "    }\n",
       "</style>\n",
       "<table border=\"1\" class=\"dataframe\">\n",
       "  <thead>\n",
       "    <tr style=\"text-align: right;\">\n",
       "      <th></th>\n",
       "      <th>stn_code</th>\n",
       "      <th>state</th>\n",
       "      <th>location</th>\n",
       "      <th>agency</th>\n",
       "      <th>type</th>\n",
       "      <th>so2</th>\n",
       "      <th>no2</th>\n",
       "      <th>rspm</th>\n",
       "      <th>spm</th>\n",
       "      <th>location_monitoring_station</th>\n",
       "      <th>pm2_5</th>\n",
       "      <th>date</th>\n",
       "    </tr>\n",
       "  </thead>\n",
       "  <tbody>\n",
       "    <tr>\n",
       "      <th>0</th>\n",
       "      <td>150.0</td>\n",
       "      <td>Andhra Pradesh</td>\n",
       "      <td>Hyderabad</td>\n",
       "      <td>None</td>\n",
       "      <td>Residential, Rural and other Areas</td>\n",
       "      <td>4.8</td>\n",
       "      <td>17.4</td>\n",
       "      <td>NaN</td>\n",
       "      <td>NaN</td>\n",
       "      <td>None</td>\n",
       "      <td>NaN</td>\n",
       "      <td>1990-02-01</td>\n",
       "    </tr>\n",
       "    <tr>\n",
       "      <th>1</th>\n",
       "      <td>151.0</td>\n",
       "      <td>Andhra Pradesh</td>\n",
       "      <td>Hyderabad</td>\n",
       "      <td>None</td>\n",
       "      <td>Industrial Area</td>\n",
       "      <td>3.1</td>\n",
       "      <td>7.0</td>\n",
       "      <td>NaN</td>\n",
       "      <td>NaN</td>\n",
       "      <td>None</td>\n",
       "      <td>NaN</td>\n",
       "      <td>1990-02-01</td>\n",
       "    </tr>\n",
       "    <tr>\n",
       "      <th>2</th>\n",
       "      <td>152.0</td>\n",
       "      <td>Andhra Pradesh</td>\n",
       "      <td>Hyderabad</td>\n",
       "      <td>None</td>\n",
       "      <td>Residential, Rural and other Areas</td>\n",
       "      <td>6.2</td>\n",
       "      <td>28.5</td>\n",
       "      <td>NaN</td>\n",
       "      <td>NaN</td>\n",
       "      <td>None</td>\n",
       "      <td>NaN</td>\n",
       "      <td>1990-02-01</td>\n",
       "    </tr>\n",
       "    <tr>\n",
       "      <th>3</th>\n",
       "      <td>150.0</td>\n",
       "      <td>Andhra Pradesh</td>\n",
       "      <td>Hyderabad</td>\n",
       "      <td>None</td>\n",
       "      <td>Residential, Rural and other Areas</td>\n",
       "      <td>6.3</td>\n",
       "      <td>14.7</td>\n",
       "      <td>NaN</td>\n",
       "      <td>NaN</td>\n",
       "      <td>None</td>\n",
       "      <td>NaN</td>\n",
       "      <td>1990-03-01</td>\n",
       "    </tr>\n",
       "    <tr>\n",
       "      <th>4</th>\n",
       "      <td>151.0</td>\n",
       "      <td>Andhra Pradesh</td>\n",
       "      <td>Hyderabad</td>\n",
       "      <td>None</td>\n",
       "      <td>Industrial Area</td>\n",
       "      <td>4.7</td>\n",
       "      <td>7.5</td>\n",
       "      <td>NaN</td>\n",
       "      <td>NaN</td>\n",
       "      <td>None</td>\n",
       "      <td>NaN</td>\n",
       "      <td>1990-03-01</td>\n",
       "    </tr>\n",
       "  </tbody>\n",
       "</table>\n",
       "</div>"
      ],
      "text/plain": [
       "  stn_code           state   location agency  \\\n",
       "0    150.0  Andhra Pradesh  Hyderabad   None   \n",
       "1    151.0  Andhra Pradesh  Hyderabad   None   \n",
       "2    152.0  Andhra Pradesh  Hyderabad   None   \n",
       "3    150.0  Andhra Pradesh  Hyderabad   None   \n",
       "4    151.0  Andhra Pradesh  Hyderabad   None   \n",
       "\n",
       "                                 type  so2   no2  rspm  spm  \\\n",
       "0  Residential, Rural and other Areas  4.8  17.4   NaN  NaN   \n",
       "1                     Industrial Area  3.1   7.0   NaN  NaN   \n",
       "2  Residential, Rural and other Areas  6.2  28.5   NaN  NaN   \n",
       "3  Residential, Rural and other Areas  6.3  14.7   NaN  NaN   \n",
       "4                     Industrial Area  4.7   7.5   NaN  NaN   \n",
       "\n",
       "  location_monitoring_station  pm2_5       date  \n",
       "0                        None    NaN 1990-02-01  \n",
       "1                        None    NaN 1990-02-01  \n",
       "2                        None    NaN 1990-02-01  \n",
       "3                        None    NaN 1990-03-01  \n",
       "4                        None    NaN 1990-03-01  "
      ]
     },
     "execution_count": 9,
     "metadata": {},
     "output_type": "execute_result"
    }
   ],
   "source": [
    "df.drop(['sampling_date'],  axis=1, inplace=True)\n",
    "df.head()"
   ]
  },
  {
   "cell_type": "code",
   "execution_count": 10,
   "metadata": {},
   "outputs": [
    {
     "name": "stdout",
     "output_type": "stream",
     "text": [
      "stn_code 0.0\n",
      "state 0.0\n",
      "location 0.0\n",
      "agency 39.78963040571279\n",
      "type 1.3588092842011423\n",
      "so2 10.055280607673115\n",
      "no2 4.864509666064691\n",
      "rspm 11.246823547792681\n",
      "spm 48.82247250904111\n",
      "location_monitoring_station 7.720904157303887\n",
      "pm2_5 97.66654259547738\n",
      "date 0.0009190458466020578\n"
     ]
    }
   ],
   "source": [
    "for column in df.columns:\n",
    "    percent = df[column].isna().sum()/df.shape[0] * 100\n",
    "    print(column, percent)\n",
    "    "
   ]
  },
  {
   "cell_type": "code",
   "execution_count": 11,
   "metadata": {},
   "outputs": [
    {
     "data": {
      "text/plain": [
       "97.66654259547738"
      ]
     },
     "execution_count": 11,
     "metadata": {},
     "output_type": "execute_result"
    }
   ],
   "source": [
    "df[\"pm2_5\"].isna().sum()/df.shape[0] * 100"
   ]
  },
  {
   "cell_type": "markdown",
   "metadata": {},
   "source": [
    "# Dropping the field pm2_5 becuase 97% of the the variable are of null values"
   ]
  },
  {
   "cell_type": "code",
   "execution_count": 12,
   "metadata": {},
   "outputs": [
    {
     "data": {
      "text/html": [
       "<div>\n",
       "<style scoped>\n",
       "    .dataframe tbody tr th:only-of-type {\n",
       "        vertical-align: middle;\n",
       "    }\n",
       "\n",
       "    .dataframe tbody tr th {\n",
       "        vertical-align: top;\n",
       "    }\n",
       "\n",
       "    .dataframe thead th {\n",
       "        text-align: right;\n",
       "    }\n",
       "</style>\n",
       "<table border=\"1\" class=\"dataframe\">\n",
       "  <thead>\n",
       "    <tr style=\"text-align: right;\">\n",
       "      <th></th>\n",
       "      <th>stn_code</th>\n",
       "      <th>state</th>\n",
       "      <th>location</th>\n",
       "      <th>agency</th>\n",
       "      <th>type</th>\n",
       "      <th>so2</th>\n",
       "      <th>no2</th>\n",
       "      <th>rspm</th>\n",
       "      <th>spm</th>\n",
       "      <th>location_monitoring_station</th>\n",
       "      <th>date</th>\n",
       "    </tr>\n",
       "  </thead>\n",
       "  <tbody>\n",
       "    <tr>\n",
       "      <th>0</th>\n",
       "      <td>150.0</td>\n",
       "      <td>Andhra Pradesh</td>\n",
       "      <td>Hyderabad</td>\n",
       "      <td>None</td>\n",
       "      <td>Residential, Rural and other Areas</td>\n",
       "      <td>4.8</td>\n",
       "      <td>17.4</td>\n",
       "      <td>NaN</td>\n",
       "      <td>NaN</td>\n",
       "      <td>None</td>\n",
       "      <td>1990-02-01</td>\n",
       "    </tr>\n",
       "    <tr>\n",
       "      <th>1</th>\n",
       "      <td>151.0</td>\n",
       "      <td>Andhra Pradesh</td>\n",
       "      <td>Hyderabad</td>\n",
       "      <td>None</td>\n",
       "      <td>Industrial Area</td>\n",
       "      <td>3.1</td>\n",
       "      <td>7.0</td>\n",
       "      <td>NaN</td>\n",
       "      <td>NaN</td>\n",
       "      <td>None</td>\n",
       "      <td>1990-02-01</td>\n",
       "    </tr>\n",
       "    <tr>\n",
       "      <th>2</th>\n",
       "      <td>152.0</td>\n",
       "      <td>Andhra Pradesh</td>\n",
       "      <td>Hyderabad</td>\n",
       "      <td>None</td>\n",
       "      <td>Residential, Rural and other Areas</td>\n",
       "      <td>6.2</td>\n",
       "      <td>28.5</td>\n",
       "      <td>NaN</td>\n",
       "      <td>NaN</td>\n",
       "      <td>None</td>\n",
       "      <td>1990-02-01</td>\n",
       "    </tr>\n",
       "    <tr>\n",
       "      <th>3</th>\n",
       "      <td>150.0</td>\n",
       "      <td>Andhra Pradesh</td>\n",
       "      <td>Hyderabad</td>\n",
       "      <td>None</td>\n",
       "      <td>Residential, Rural and other Areas</td>\n",
       "      <td>6.3</td>\n",
       "      <td>14.7</td>\n",
       "      <td>NaN</td>\n",
       "      <td>NaN</td>\n",
       "      <td>None</td>\n",
       "      <td>1990-03-01</td>\n",
       "    </tr>\n",
       "    <tr>\n",
       "      <th>4</th>\n",
       "      <td>151.0</td>\n",
       "      <td>Andhra Pradesh</td>\n",
       "      <td>Hyderabad</td>\n",
       "      <td>None</td>\n",
       "      <td>Industrial Area</td>\n",
       "      <td>4.7</td>\n",
       "      <td>7.5</td>\n",
       "      <td>NaN</td>\n",
       "      <td>NaN</td>\n",
       "      <td>None</td>\n",
       "      <td>1990-03-01</td>\n",
       "    </tr>\n",
       "  </tbody>\n",
       "</table>\n",
       "</div>"
      ],
      "text/plain": [
       "  stn_code           state   location agency  \\\n",
       "0    150.0  Andhra Pradesh  Hyderabad   None   \n",
       "1    151.0  Andhra Pradesh  Hyderabad   None   \n",
       "2    152.0  Andhra Pradesh  Hyderabad   None   \n",
       "3    150.0  Andhra Pradesh  Hyderabad   None   \n",
       "4    151.0  Andhra Pradesh  Hyderabad   None   \n",
       "\n",
       "                                 type  so2   no2  rspm  spm  \\\n",
       "0  Residential, Rural and other Areas  4.8  17.4   NaN  NaN   \n",
       "1                     Industrial Area  3.1   7.0   NaN  NaN   \n",
       "2  Residential, Rural and other Areas  6.2  28.5   NaN  NaN   \n",
       "3  Residential, Rural and other Areas  6.3  14.7   NaN  NaN   \n",
       "4                     Industrial Area  4.7   7.5   NaN  NaN   \n",
       "\n",
       "  location_monitoring_station       date  \n",
       "0                        None 1990-02-01  \n",
       "1                        None 1990-02-01  \n",
       "2                        None 1990-02-01  \n",
       "3                        None 1990-03-01  \n",
       "4                        None 1990-03-01  "
      ]
     },
     "execution_count": 12,
     "metadata": {},
     "output_type": "execute_result"
    }
   ],
   "source": [
    "df.drop(['pm2_5'],  axis=1, inplace=True)\n",
    "df.head()"
   ]
  },
  {
   "cell_type": "code",
   "execution_count": 13,
   "metadata": {},
   "outputs": [],
   "source": [
    "#dfx = df[['so2','year','state']].groupby([\"year\"]).median().reset_index().sort_values(by='year',ascending=False)\n",
    "#f,ax=plt.subplots(figsize=(15,5))\n",
    "#sns.pointplot(x='year', y='so2', dfx=df)"
   ]
  },
  {
   "cell_type": "markdown",
   "metadata": {},
   "source": [
    "# For our requirement we need to be focusing only on the Andhra pradesh state and drop the remaining rows that does not belong to that state"
   ]
  },
  {
   "cell_type": "code",
   "execution_count": 14,
   "metadata": {},
   "outputs": [
    {
     "data": {
      "text/html": [
       "<div>\n",
       "<style scoped>\n",
       "    .dataframe tbody tr th:only-of-type {\n",
       "        vertical-align: middle;\n",
       "    }\n",
       "\n",
       "    .dataframe tbody tr th {\n",
       "        vertical-align: top;\n",
       "    }\n",
       "\n",
       "    .dataframe thead th {\n",
       "        text-align: right;\n",
       "    }\n",
       "</style>\n",
       "<table border=\"1\" class=\"dataframe\">\n",
       "  <thead>\n",
       "    <tr style=\"text-align: right;\">\n",
       "      <th></th>\n",
       "      <th>stn_code</th>\n",
       "      <th>state</th>\n",
       "      <th>location</th>\n",
       "      <th>agency</th>\n",
       "      <th>type</th>\n",
       "      <th>so2</th>\n",
       "      <th>no2</th>\n",
       "      <th>rspm</th>\n",
       "      <th>spm</th>\n",
       "      <th>location_monitoring_station</th>\n",
       "      <th>date</th>\n",
       "    </tr>\n",
       "  </thead>\n",
       "  <tbody>\n",
       "    <tr>\n",
       "      <th>0</th>\n",
       "      <td>150.0</td>\n",
       "      <td>Andhra Pradesh</td>\n",
       "      <td>Hyderabad</td>\n",
       "      <td>None</td>\n",
       "      <td>Residential, Rural and other Areas</td>\n",
       "      <td>4.8</td>\n",
       "      <td>17.4</td>\n",
       "      <td>NaN</td>\n",
       "      <td>NaN</td>\n",
       "      <td>None</td>\n",
       "      <td>1990-02-01</td>\n",
       "    </tr>\n",
       "    <tr>\n",
       "      <th>1</th>\n",
       "      <td>151.0</td>\n",
       "      <td>Andhra Pradesh</td>\n",
       "      <td>Hyderabad</td>\n",
       "      <td>None</td>\n",
       "      <td>Industrial Area</td>\n",
       "      <td>3.1</td>\n",
       "      <td>7.0</td>\n",
       "      <td>NaN</td>\n",
       "      <td>NaN</td>\n",
       "      <td>None</td>\n",
       "      <td>1990-02-01</td>\n",
       "    </tr>\n",
       "    <tr>\n",
       "      <th>2</th>\n",
       "      <td>152.0</td>\n",
       "      <td>Andhra Pradesh</td>\n",
       "      <td>Hyderabad</td>\n",
       "      <td>None</td>\n",
       "      <td>Residential, Rural and other Areas</td>\n",
       "      <td>6.2</td>\n",
       "      <td>28.5</td>\n",
       "      <td>NaN</td>\n",
       "      <td>NaN</td>\n",
       "      <td>None</td>\n",
       "      <td>1990-02-01</td>\n",
       "    </tr>\n",
       "    <tr>\n",
       "      <th>3</th>\n",
       "      <td>150.0</td>\n",
       "      <td>Andhra Pradesh</td>\n",
       "      <td>Hyderabad</td>\n",
       "      <td>None</td>\n",
       "      <td>Residential, Rural and other Areas</td>\n",
       "      <td>6.3</td>\n",
       "      <td>14.7</td>\n",
       "      <td>NaN</td>\n",
       "      <td>NaN</td>\n",
       "      <td>None</td>\n",
       "      <td>1990-03-01</td>\n",
       "    </tr>\n",
       "    <tr>\n",
       "      <th>4</th>\n",
       "      <td>151.0</td>\n",
       "      <td>Andhra Pradesh</td>\n",
       "      <td>Hyderabad</td>\n",
       "      <td>None</td>\n",
       "      <td>Industrial Area</td>\n",
       "      <td>4.7</td>\n",
       "      <td>7.5</td>\n",
       "      <td>NaN</td>\n",
       "      <td>NaN</td>\n",
       "      <td>None</td>\n",
       "      <td>1990-03-01</td>\n",
       "    </tr>\n",
       "  </tbody>\n",
       "</table>\n",
       "</div>"
      ],
      "text/plain": [
       "  stn_code           state   location agency  \\\n",
       "0    150.0  Andhra Pradesh  Hyderabad   None   \n",
       "1    151.0  Andhra Pradesh  Hyderabad   None   \n",
       "2    152.0  Andhra Pradesh  Hyderabad   None   \n",
       "3    150.0  Andhra Pradesh  Hyderabad   None   \n",
       "4    151.0  Andhra Pradesh  Hyderabad   None   \n",
       "\n",
       "                                 type  so2   no2  rspm  spm  \\\n",
       "0  Residential, Rural and other Areas  4.8  17.4   NaN  NaN   \n",
       "1                     Industrial Area  3.1   7.0   NaN  NaN   \n",
       "2  Residential, Rural and other Areas  6.2  28.5   NaN  NaN   \n",
       "3  Residential, Rural and other Areas  6.3  14.7   NaN  NaN   \n",
       "4                     Industrial Area  4.7   7.5   NaN  NaN   \n",
       "\n",
       "  location_monitoring_station       date  \n",
       "0                        None 1990-02-01  \n",
       "1                        None 1990-02-01  \n",
       "2                        None 1990-02-01  \n",
       "3                        None 1990-03-01  \n",
       "4                        None 1990-03-01  "
      ]
     },
     "execution_count": 14,
     "metadata": {},
     "output_type": "execute_result"
    }
   ],
   "source": [
    "df = df[df[\"state\"]==\"Andhra Pradesh\"]\n",
    "# df.drop(['state']!=\"Andhra Pradesh\",  axis=1, inplace=True)\n",
    "df.head()\n",
    "\n"
   ]
  },
  {
   "cell_type": "code",
   "execution_count": 15,
   "metadata": {},
   "outputs": [
    {
     "name": "stdout",
     "output_type": "stream",
     "text": [
      "stn_code 0.0\n",
      "state 0.0\n",
      "location 0.0\n",
      "agency 36.02093446601942\n",
      "type 2.3134101941747574\n",
      "so2 2.6054308252427183\n",
      "no2 2.0896541262135924\n",
      "rspm 4.323422330097087\n",
      "spm 55.2905036407767\n",
      "location_monitoring_station 3.9290048543689324\n",
      "date 0.0\n"
     ]
    }
   ],
   "source": [
    "for column in df.columns:\n",
    "    percent = df[column].isna().sum()/df.shape[0] * 100\n",
    "    print(column, percent)\n",
    "    "
   ]
  },
  {
   "cell_type": "code",
   "execution_count": 16,
   "metadata": {},
   "outputs": [
    {
     "name": "stdout",
     "output_type": "stream",
     "text": [
      "stn_code 0.0\n",
      "state 0.0\n",
      "location 0.0\n",
      "agency 36.02093446601942\n",
      "type 2.3134101941747574\n",
      "so2 2.6054308252427183\n",
      "no2 2.0896541262135924\n",
      "rspm 4.323422330097087\n",
      "spm 0.0\n",
      "location_monitoring_station 3.9290048543689324\n",
      "date 0.0\n"
     ]
    }
   ],
   "source": [
    "df1 = df[0:0] # empty\n",
    "\n",
    "# get median for each location, fill na\n",
    "for location_name in df[\"location\"].unique():\n",
    "    location_df:pd.DataFrame = df[df[\"location\"] == location_name]\n",
    "    location_df[\"spm\"] = location_df[\"spm\"].fillna(location_df[\"spm\"].median())\n",
    "    df1 = pd.concat([df1, location_df]) # add location df to df1\n",
    "# for any thin thats left replace with full median\n",
    "df1[\"spm\"] = df1[\"spm\"].fillna(df1[\"spm\"].median())\n",
    "\n",
    "df = df1.copy()\n",
    "\n",
    "\n",
    "for column in df.columns:\n",
    "    percent = df[column].isna().sum()/df.shape[0] * 100\n",
    "    print(column, percent)"
   ]
  },
  {
   "cell_type": "markdown",
   "metadata": {},
   "source": [
    "# No more null values present in the spm column and we are moving into the rspm column now to handle the null values"
   ]
  },
  {
   "cell_type": "code",
   "execution_count": 17,
   "metadata": {},
   "outputs": [
    {
     "name": "stdout",
     "output_type": "stream",
     "text": [
      "stn_code 0.0\n",
      "state 0.0\n",
      "location 0.0\n",
      "agency 36.02093446601942\n",
      "type 2.3134101941747574\n",
      "so2 2.6054308252427183\n",
      "no2 2.0896541262135924\n",
      "rspm 0.0\n",
      "spm 0.0\n",
      "location_monitoring_station 3.9290048543689324\n",
      "date 0.0\n"
     ]
    }
   ],
   "source": [
    "df1 = df[0:0] # empty\n",
    "\n",
    "# get median for each location, fill na\n",
    "for location_name in df[\"location\"].unique():\n",
    "    location_df:pd.DataFrame = df[df[\"location\"] == location_name]\n",
    "    location_df[\"rspm\"] = location_df[\"rspm\"].fillna(location_df[\"rspm\"].median())\n",
    "    df1 = pd.concat([df1, location_df]) # add location df to df1\n",
    "# for any thin thats left replace with full median\n",
    "df1[\"rspm\"] = df1[\"rspm\"].fillna(df1[\"rspm\"].median())\n",
    "\n",
    "df = df1.copy()\n",
    "\n",
    "\n",
    "for column in df.columns:\n",
    "    percent = df[column].isna().sum()/df.shape[0] * 100\n",
    "    print(column, percent)"
   ]
  },
  {
   "cell_type": "markdown",
   "metadata": {},
   "source": [
    "# No more null values present in the rspm column and we are moving into the no2 column now to handle the null values"
   ]
  },
  {
   "cell_type": "code",
   "execution_count": 18,
   "metadata": {},
   "outputs": [
    {
     "name": "stdout",
     "output_type": "stream",
     "text": [
      "stn_code 0.0\n",
      "state 0.0\n",
      "location 0.0\n",
      "agency 36.02093446601942\n",
      "type 2.3134101941747574\n",
      "so2 2.6054308252427183\n",
      "no2 0.0\n",
      "rspm 0.0\n",
      "spm 0.0\n",
      "location_monitoring_station 3.9290048543689324\n",
      "date 0.0\n"
     ]
    }
   ],
   "source": [
    "df1 = df[0:0] # empty\n",
    "\n",
    "# get median for each location, fill na\n",
    "for location_name in df[\"location\"].unique():\n",
    "    location_df:pd.DataFrame = df[df[\"location\"] == location_name]\n",
    "    location_df[\"no2\"] = location_df[\"no2\"].fillna(location_df[\"no2\"].median())\n",
    "    df1 = pd.concat([df1, location_df]) # add location df to df1\n",
    "# for any thin thats left replace with full median\n",
    "df1[\"no2\"] = df1[\"no2\"].fillna(df1[\"no2\"].median())\n",
    "\n",
    "df = df1.copy()\n",
    "\n",
    "\n",
    "for column in df.columns:\n",
    "    percent = df[column].isna().sum()/df.shape[0] * 100\n",
    "    print(column, percent)"
   ]
  },
  {
   "cell_type": "markdown",
   "metadata": {},
   "source": [
    "# No more null values present in the no2 column and we are moving into the so2 column now to handle the null values"
   ]
  },
  {
   "cell_type": "code",
   "execution_count": 19,
   "metadata": {},
   "outputs": [
    {
     "name": "stdout",
     "output_type": "stream",
     "text": [
      "stn_code 0.0\n",
      "state 0.0\n",
      "location 0.0\n",
      "agency 36.02093446601942\n",
      "type 2.3134101941747574\n",
      "so2 0.0\n",
      "no2 0.0\n",
      "rspm 0.0\n",
      "spm 0.0\n",
      "location_monitoring_station 3.9290048543689324\n",
      "date 0.0\n"
     ]
    }
   ],
   "source": [
    "df1 = df[0:0] # empty\n",
    "\n",
    "# get median for each location, fill na\n",
    "for location_name in df[\"location\"].unique():\n",
    "    location_df:pd.DataFrame = df[df[\"location\"] == location_name]\n",
    "    location_df[\"so2\"] = location_df[\"so2\"].fillna(location_df[\"so2\"].median())\n",
    "    df1 = pd.concat([df1, location_df]) # add location df to df1\n",
    "# for any thin thats left replace with full median\n",
    "df1[\"so2\"] = df1[\"so2\"].fillna(df1[\"so2\"].median())\n",
    "\n",
    "df = df1.copy()\n",
    "\n",
    "\n",
    "for column in df.columns:\n",
    "    percent = df[column].isna().sum()/df.shape[0] * 100\n",
    "    print(column, percent)"
   ]
  },
  {
   "cell_type": "markdown",
   "metadata": {},
   "source": [
    "# All the numerical variables does not consist of any null values and are fine to be proceeded\n",
    "\n",
    "# But we can see that the variable agency consists of 36% of null values(huge) and does not have any numerical values\n",
    "# Hence it is better to drop the entire column "
   ]
  },
  {
   "cell_type": "code",
   "execution_count": 20,
   "metadata": {},
   "outputs": [
    {
     "data": {
      "text/html": [
       "<div>\n",
       "<style scoped>\n",
       "    .dataframe tbody tr th:only-of-type {\n",
       "        vertical-align: middle;\n",
       "    }\n",
       "\n",
       "    .dataframe tbody tr th {\n",
       "        vertical-align: top;\n",
       "    }\n",
       "\n",
       "    .dataframe thead th {\n",
       "        text-align: right;\n",
       "    }\n",
       "</style>\n",
       "<table border=\"1\" class=\"dataframe\">\n",
       "  <thead>\n",
       "    <tr style=\"text-align: right;\">\n",
       "      <th></th>\n",
       "      <th>stn_code</th>\n",
       "      <th>state</th>\n",
       "      <th>location</th>\n",
       "      <th>type</th>\n",
       "      <th>so2</th>\n",
       "      <th>no2</th>\n",
       "      <th>rspm</th>\n",
       "      <th>spm</th>\n",
       "      <th>location_monitoring_station</th>\n",
       "      <th>date</th>\n",
       "    </tr>\n",
       "  </thead>\n",
       "  <tbody>\n",
       "    <tr>\n",
       "      <th>0</th>\n",
       "      <td>150.0</td>\n",
       "      <td>Andhra Pradesh</td>\n",
       "      <td>Hyderabad</td>\n",
       "      <td>Residential, Rural and other Areas</td>\n",
       "      <td>4.8</td>\n",
       "      <td>17.4</td>\n",
       "      <td>81.0</td>\n",
       "      <td>209.0</td>\n",
       "      <td>None</td>\n",
       "      <td>1990-02-01</td>\n",
       "    </tr>\n",
       "    <tr>\n",
       "      <th>1</th>\n",
       "      <td>151.0</td>\n",
       "      <td>Andhra Pradesh</td>\n",
       "      <td>Hyderabad</td>\n",
       "      <td>Industrial Area</td>\n",
       "      <td>3.1</td>\n",
       "      <td>7.0</td>\n",
       "      <td>81.0</td>\n",
       "      <td>209.0</td>\n",
       "      <td>None</td>\n",
       "      <td>1990-02-01</td>\n",
       "    </tr>\n",
       "    <tr>\n",
       "      <th>2</th>\n",
       "      <td>152.0</td>\n",
       "      <td>Andhra Pradesh</td>\n",
       "      <td>Hyderabad</td>\n",
       "      <td>Residential, Rural and other Areas</td>\n",
       "      <td>6.2</td>\n",
       "      <td>28.5</td>\n",
       "      <td>81.0</td>\n",
       "      <td>209.0</td>\n",
       "      <td>None</td>\n",
       "      <td>1990-02-01</td>\n",
       "    </tr>\n",
       "    <tr>\n",
       "      <th>3</th>\n",
       "      <td>150.0</td>\n",
       "      <td>Andhra Pradesh</td>\n",
       "      <td>Hyderabad</td>\n",
       "      <td>Residential, Rural and other Areas</td>\n",
       "      <td>6.3</td>\n",
       "      <td>14.7</td>\n",
       "      <td>81.0</td>\n",
       "      <td>209.0</td>\n",
       "      <td>None</td>\n",
       "      <td>1990-03-01</td>\n",
       "    </tr>\n",
       "    <tr>\n",
       "      <th>4</th>\n",
       "      <td>151.0</td>\n",
       "      <td>Andhra Pradesh</td>\n",
       "      <td>Hyderabad</td>\n",
       "      <td>Industrial Area</td>\n",
       "      <td>4.7</td>\n",
       "      <td>7.5</td>\n",
       "      <td>81.0</td>\n",
       "      <td>209.0</td>\n",
       "      <td>None</td>\n",
       "      <td>1990-03-01</td>\n",
       "    </tr>\n",
       "  </tbody>\n",
       "</table>\n",
       "</div>"
      ],
      "text/plain": [
       "  stn_code           state   location                                type  \\\n",
       "0    150.0  Andhra Pradesh  Hyderabad  Residential, Rural and other Areas   \n",
       "1    151.0  Andhra Pradesh  Hyderabad                     Industrial Area   \n",
       "2    152.0  Andhra Pradesh  Hyderabad  Residential, Rural and other Areas   \n",
       "3    150.0  Andhra Pradesh  Hyderabad  Residential, Rural and other Areas   \n",
       "4    151.0  Andhra Pradesh  Hyderabad                     Industrial Area   \n",
       "\n",
       "   so2   no2  rspm    spm location_monitoring_station       date  \n",
       "0  4.8  17.4  81.0  209.0                        None 1990-02-01  \n",
       "1  3.1   7.0  81.0  209.0                        None 1990-02-01  \n",
       "2  6.2  28.5  81.0  209.0                        None 1990-02-01  \n",
       "3  6.3  14.7  81.0  209.0                        None 1990-03-01  \n",
       "4  4.7   7.5  81.0  209.0                        None 1990-03-01  "
      ]
     },
     "execution_count": 20,
     "metadata": {},
     "output_type": "execute_result"
    }
   ],
   "source": [
    "#Dropping the column agency\n",
    "\n",
    "df.drop(['agency'],  axis=1, inplace=True)\n",
    "df.head()\n"
   ]
  },
  {
   "cell_type": "markdown",
   "metadata": {},
   "source": [
    "# We have still got null values in the variables type and location_monitoring_station and the null values are dropped"
   ]
  },
  {
   "cell_type": "code",
   "execution_count": 21,
   "metadata": {},
   "outputs": [],
   "source": [
    "df.dropna(subset=['type'], how='all', inplace=True)\n",
    "df.dropna(subset=['location_monitoring_station'], how= 'all', inplace=True)"
   ]
  },
  {
   "cell_type": "code",
   "execution_count": 22,
   "metadata": {},
   "outputs": [
    {
     "name": "stdout",
     "output_type": "stream",
     "text": [
      "stn_code 0.0\n",
      "state 0.0\n",
      "location 0.0\n",
      "type 0.0\n",
      "so2 0.0\n",
      "no2 0.0\n",
      "rspm 0.0\n",
      "spm 0.0\n",
      "location_monitoring_station 0.0\n",
      "date 0.0\n"
     ]
    }
   ],
   "source": [
    "for column in df.columns:\n",
    "    percent = df[column].isna().sum()/df.shape[0] * 100\n",
    "    print(column, percent)"
   ]
  },
  {
   "cell_type": "markdown",
   "metadata": {},
   "source": [
    "# No null values are present and we are fine to proceed\n",
    " "
   ]
  },
  {
   "cell_type": "code",
   "execution_count": 23,
   "metadata": {},
   "outputs": [
    {
     "data": {
      "text/plain": [
       "stn_code                               object\n",
       "state                                  object\n",
       "location                               object\n",
       "type                                   object\n",
       "so2                                   float64\n",
       "no2                                   float64\n",
       "rspm                                  float64\n",
       "spm                                   float64\n",
       "location_monitoring_station            object\n",
       "date                           datetime64[ns]\n",
       "dtype: object"
      ]
     },
     "execution_count": 23,
     "metadata": {},
     "output_type": "execute_result"
    }
   ],
   "source": [
    "df.dtypes"
   ]
  },
  {
   "cell_type": "code",
   "execution_count": 24,
   "metadata": {},
   "outputs": [
    {
     "name": "stdout",
     "output_type": "stream",
     "text": [
      "95.0\n",
      "203.0\n",
      "365.0\n",
      "393.0\n",
      "394.0\n",
      "nan\n",
      "150.0\n",
      "151.0\n",
      "152.0\n",
      "470.0\n",
      "745.0\n",
      "233.0\n",
      "234.0\n",
      "371.0\n",
      "387.0\n",
      "388.0\n",
      "467.0\n",
      "585.0\n",
      "584.0\n",
      "389.0\n",
      "462.0\n",
      "469.0\n",
      "739.0\n",
      "468.0\n",
      "465.0\n",
      "466.0\n",
      "583.0\n",
      "577.0\n",
      "740.0\n",
      "580.0\n",
      "579.0\n",
      "741.0\n",
      "582.0\n",
      "742.0\n",
      "581.0\n",
      "743.0\n",
      "578.0\n",
      "748.0\n",
      "750.0\n",
      "749.0\n",
      "755.0\n",
      "746.0\n",
      "753.0\n",
      "757.0\n",
      "758.0\n",
      "756.0\n",
      "751.0\n",
      "752.0\n"
     ]
    }
   ],
   "source": [
    "#print(df['Courses'].unique())\n",
    "\n",
    "# print(df[\"stn_code\"].unique)\n",
    "for val in df[\"stn_code\"].unique():\n",
    "    print(val)\n",
    "\n"
   ]
  },
  {
   "cell_type": "markdown",
   "metadata": {},
   "source": [
    "# Converting stn_code from string into float "
   ]
  },
  {
   "cell_type": "code",
   "execution_count": 25,
   "metadata": {},
   "outputs": [],
   "source": [
    "df['stn_code'] = df['stn_code'].astype(float)"
   ]
  },
  {
   "cell_type": "code",
   "execution_count": 26,
   "metadata": {},
   "outputs": [
    {
     "data": {
      "text/plain": [
       "stn_code                              float64\n",
       "state                                  object\n",
       "location                               object\n",
       "type                                   object\n",
       "so2                                   float64\n",
       "no2                                   float64\n",
       "rspm                                  float64\n",
       "spm                                   float64\n",
       "location_monitoring_station            object\n",
       "date                           datetime64[ns]\n",
       "dtype: object"
      ]
     },
     "execution_count": 26,
     "metadata": {},
     "output_type": "execute_result"
    }
   ],
   "source": [
    "df.dtypes"
   ]
  },
  {
   "cell_type": "markdown",
   "metadata": {},
   "source": [
    "# Checking for duplicates"
   ]
  },
  {
   "cell_type": "code",
   "execution_count": 27,
   "metadata": {},
   "outputs": [
    {
     "data": {
      "text/plain": [
       "1036     False\n",
       "1037     False\n",
       "1038     False\n",
       "1039     False\n",
       "1040     False\n",
       "         ...  \n",
       "26158    False\n",
       "26159    False\n",
       "26160    False\n",
       "26161    False\n",
       "26162    False\n",
       "Length: 25332, dtype: bool"
      ]
     },
     "execution_count": 27,
     "metadata": {},
     "output_type": "execute_result"
    }
   ],
   "source": [
    "df.duplicated()"
   ]
  },
  {
   "cell_type": "code",
   "execution_count": 28,
   "metadata": {},
   "outputs": [
    {
     "data": {
      "text/plain": [
       "207"
      ]
     },
     "execution_count": 28,
     "metadata": {},
     "output_type": "execute_result"
    }
   ],
   "source": [
    "df.duplicated().sum()"
   ]
  },
  {
   "cell_type": "code",
   "execution_count": 29,
   "metadata": {},
   "outputs": [],
   "source": [
    "# There are 207 duplicates and needs to be dropped permanently\n",
    "\n",
    "df.drop_duplicates(keep=False, inplace=True)"
   ]
  },
  {
   "cell_type": "code",
   "execution_count": 30,
   "metadata": {},
   "outputs": [
    {
     "data": {
      "text/plain": [
       "0"
      ]
     },
     "execution_count": 30,
     "metadata": {},
     "output_type": "execute_result"
    }
   ],
   "source": [
    "df.duplicated().sum()"
   ]
  },
  {
   "cell_type": "markdown",
   "metadata": {},
   "source": [
    "# All the duplicates have been removed and hence we are fine to proceed"
   ]
  },
  {
   "cell_type": "code",
   "execution_count": 31,
   "metadata": {},
   "outputs": [
    {
     "data": {
      "text/plain": [
       "<AxesSubplot:>"
      ]
     },
     "execution_count": 31,
     "metadata": {},
     "output_type": "execute_result"
    },
    {
     "data": {
      "image/png": "[encoded data removed]",
      "text/plain": [
       "<Figure size 1152x720 with 2 Axes>"
      ]
     },
     "metadata": {
      "needs_background": "light"
     },
     "output_type": "display_data"
    }
   ],
   "source": [
    "df2 = df.copy()\n",
    "\n",
    "from sklearn import preprocessing\n",
    "le = preprocessing.LabelEncoder()\n",
    "for x in df.columns:\n",
    "    if df2[x].dtypes=='object':\n",
    "       df2[x]=le.fit_transform(df2[x].astype(str))\n",
    "corr = df2.drop(\"state\", axis=\"columns\").corr()\n",
    "\n",
    "plt.figure(figsize = (16,10))\n",
    "sns.heatmap(corr, annot =True)"
   ]
  },
  {
   "cell_type": "code",
   "execution_count": 32,
   "metadata": {},
   "outputs": [
    {
     "data": {
      "text/html": [
       "<div>\n",
       "<style scoped>\n",
       "    .dataframe tbody tr th:only-of-type {\n",
       "        vertical-align: middle;\n",
       "    }\n",
       "\n",
       "    .dataframe tbody tr th {\n",
       "        vertical-align: top;\n",
       "    }\n",
       "\n",
       "    .dataframe thead th {\n",
       "        text-align: right;\n",
       "    }\n",
       "</style>\n",
       "<table border=\"1\" class=\"dataframe\">\n",
       "  <thead>\n",
       "    <tr style=\"text-align: right;\">\n",
       "      <th></th>\n",
       "      <th>stn_code</th>\n",
       "      <th>state</th>\n",
       "      <th>location</th>\n",
       "      <th>type</th>\n",
       "      <th>so2</th>\n",
       "      <th>no2</th>\n",
       "      <th>rspm</th>\n",
       "      <th>spm</th>\n",
       "      <th>location_monitoring_station</th>\n",
       "      <th>date</th>\n",
       "    </tr>\n",
       "  </thead>\n",
       "  <tbody>\n",
       "    <tr>\n",
       "      <th>1036</th>\n",
       "      <td>95.0</td>\n",
       "      <td>Andhra Pradesh</td>\n",
       "      <td>Hyderabad</td>\n",
       "      <td>Industrial Area</td>\n",
       "      <td>12.9</td>\n",
       "      <td>55.8</td>\n",
       "      <td>143.7</td>\n",
       "      <td>370.7</td>\n",
       "      <td>C.I.T.D., Balanagar, Plot no. A1 to A8, IDA, H...</td>\n",
       "      <td>2004-02-01</td>\n",
       "    </tr>\n",
       "    <tr>\n",
       "      <th>1037</th>\n",
       "      <td>95.0</td>\n",
       "      <td>Andhra Pradesh</td>\n",
       "      <td>Hyderabad</td>\n",
       "      <td>Industrial Area</td>\n",
       "      <td>10.4</td>\n",
       "      <td>48.9</td>\n",
       "      <td>124.7</td>\n",
       "      <td>285.7</td>\n",
       "      <td>C.I.T.D., Balanagar, Plot no. A1 to A8, IDA, H...</td>\n",
       "      <td>2004-05-01</td>\n",
       "    </tr>\n",
       "    <tr>\n",
       "      <th>1038</th>\n",
       "      <td>95.0</td>\n",
       "      <td>Andhra Pradesh</td>\n",
       "      <td>Hyderabad</td>\n",
       "      <td>Industrial Area</td>\n",
       "      <td>7.6</td>\n",
       "      <td>50.1</td>\n",
       "      <td>88.0</td>\n",
       "      <td>221.3</td>\n",
       "      <td>C.I.T.D., Balanagar, Plot no. A1 to A8, IDA, H...</td>\n",
       "      <td>2004-09-01</td>\n",
       "    </tr>\n",
       "    <tr>\n",
       "      <th>1039</th>\n",
       "      <td>95.0</td>\n",
       "      <td>Andhra Pradesh</td>\n",
       "      <td>Hyderabad</td>\n",
       "      <td>Industrial Area</td>\n",
       "      <td>7.3</td>\n",
       "      <td>48.5</td>\n",
       "      <td>82.7</td>\n",
       "      <td>186.7</td>\n",
       "      <td>C.I.T.D., Balanagar, Plot no. A1 to A8, IDA, H...</td>\n",
       "      <td>2004-12-01</td>\n",
       "    </tr>\n",
       "    <tr>\n",
       "      <th>1040</th>\n",
       "      <td>95.0</td>\n",
       "      <td>Andhra Pradesh</td>\n",
       "      <td>Hyderabad</td>\n",
       "      <td>Industrial Area</td>\n",
       "      <td>6.8</td>\n",
       "      <td>110.3</td>\n",
       "      <td>122.3</td>\n",
       "      <td>270.7</td>\n",
       "      <td>C.I.T.D., Balanagar, Plot no. A1 to A8, IDA, H...</td>\n",
       "      <td>2004-01-16</td>\n",
       "    </tr>\n",
       "    <tr>\n",
       "      <th>1041</th>\n",
       "      <td>95.0</td>\n",
       "      <td>Andhra Pradesh</td>\n",
       "      <td>Hyderabad</td>\n",
       "      <td>Industrial Area</td>\n",
       "      <td>6.9</td>\n",
       "      <td>134.1</td>\n",
       "      <td>101.7</td>\n",
       "      <td>235.0</td>\n",
       "      <td>C.I.T.D., Balanagar, Plot no. A1 to A8, IDA, H...</td>\n",
       "      <td>2004-01-19</td>\n",
       "    </tr>\n",
       "    <tr>\n",
       "      <th>1042</th>\n",
       "      <td>95.0</td>\n",
       "      <td>Andhra Pradesh</td>\n",
       "      <td>Hyderabad</td>\n",
       "      <td>Industrial Area</td>\n",
       "      <td>6.2</td>\n",
       "      <td>41.6</td>\n",
       "      <td>84.7</td>\n",
       "      <td>219.3</td>\n",
       "      <td>C.I.T.D., Balanagar, Plot no. A1 to A8, IDA, H...</td>\n",
       "      <td>2004-01-23</td>\n",
       "    </tr>\n",
       "    <tr>\n",
       "      <th>1043</th>\n",
       "      <td>95.0</td>\n",
       "      <td>Andhra Pradesh</td>\n",
       "      <td>Hyderabad</td>\n",
       "      <td>Industrial Area</td>\n",
       "      <td>6.3</td>\n",
       "      <td>45.7</td>\n",
       "      <td>93.7</td>\n",
       "      <td>222.3</td>\n",
       "      <td>C.I.T.D., Balanagar, Plot no. A1 to A8, IDA, H...</td>\n",
       "      <td>2004-01-27</td>\n",
       "    </tr>\n",
       "    <tr>\n",
       "      <th>1044</th>\n",
       "      <td>95.0</td>\n",
       "      <td>Andhra Pradesh</td>\n",
       "      <td>Hyderabad</td>\n",
       "      <td>Industrial Area</td>\n",
       "      <td>6.1</td>\n",
       "      <td>79.5</td>\n",
       "      <td>55.7</td>\n",
       "      <td>182.3</td>\n",
       "      <td>C.I.T.D., Balanagar, Plot no. A1 to A8, IDA, H...</td>\n",
       "      <td>2004-01-30</td>\n",
       "    </tr>\n",
       "    <tr>\n",
       "      <th>1045</th>\n",
       "      <td>95.0</td>\n",
       "      <td>Andhra Pradesh</td>\n",
       "      <td>Hyderabad</td>\n",
       "      <td>Industrial Area</td>\n",
       "      <td>5.2</td>\n",
       "      <td>41.6</td>\n",
       "      <td>60.3</td>\n",
       "      <td>157.7</td>\n",
       "      <td>C.I.T.D., Balanagar, Plot no. A1 to A8, IDA, H...</td>\n",
       "      <td>2004-03-02</td>\n",
       "    </tr>\n",
       "  </tbody>\n",
       "</table>\n",
       "</div>"
      ],
      "text/plain": [
       "      stn_code           state   location             type   so2    no2  \\\n",
       "1036      95.0  Andhra Pradesh  Hyderabad  Industrial Area  12.9   55.8   \n",
       "1037      95.0  Andhra Pradesh  Hyderabad  Industrial Area  10.4   48.9   \n",
       "1038      95.0  Andhra Pradesh  Hyderabad  Industrial Area   7.6   50.1   \n",
       "1039      95.0  Andhra Pradesh  Hyderabad  Industrial Area   7.3   48.5   \n",
       "1040      95.0  Andhra Pradesh  Hyderabad  Industrial Area   6.8  110.3   \n",
       "1041      95.0  Andhra Pradesh  Hyderabad  Industrial Area   6.9  134.1   \n",
       "1042      95.0  Andhra Pradesh  Hyderabad  Industrial Area   6.2   41.6   \n",
       "1043      95.0  Andhra Pradesh  Hyderabad  Industrial Area   6.3   45.7   \n",
       "1044      95.0  Andhra Pradesh  Hyderabad  Industrial Area   6.1   79.5   \n",
       "1045      95.0  Andhra Pradesh  Hyderabad  Industrial Area   5.2   41.6   \n",
       "\n",
       "       rspm    spm                        location_monitoring_station  \\\n",
       "1036  143.7  370.7  C.I.T.D., Balanagar, Plot no. A1 to A8, IDA, H...   \n",
       "1037  124.7  285.7  C.I.T.D., Balanagar, Plot no. A1 to A8, IDA, H...   \n",
       "1038   88.0  221.3  C.I.T.D., Balanagar, Plot no. A1 to A8, IDA, H...   \n",
       "1039   82.7  186.7  C.I.T.D., Balanagar, Plot no. A1 to A8, IDA, H...   \n",
       "1040  122.3  270.7  C.I.T.D., Balanagar, Plot no. A1 to A8, IDA, H...   \n",
       "1041  101.7  235.0  C.I.T.D., Balanagar, Plot no. A1 to A8, IDA, H...   \n",
       "1042   84.7  219.3  C.I.T.D., Balanagar, Plot no. A1 to A8, IDA, H...   \n",
       "1043   93.7  222.3  C.I.T.D., Balanagar, Plot no. A1 to A8, IDA, H...   \n",
       "1044   55.7  182.3  C.I.T.D., Balanagar, Plot no. A1 to A8, IDA, H...   \n",
       "1045   60.3  157.7  C.I.T.D., Balanagar, Plot no. A1 to A8, IDA, H...   \n",
       "\n",
       "           date  \n",
       "1036 2004-02-01  \n",
       "1037 2004-05-01  \n",
       "1038 2004-09-01  \n",
       "1039 2004-12-01  \n",
       "1040 2004-01-16  \n",
       "1041 2004-01-19  \n",
       "1042 2004-01-23  \n",
       "1043 2004-01-27  \n",
       "1044 2004-01-30  \n",
       "1045 2004-03-02  "
      ]
     },
     "execution_count": 32,
     "metadata": {},
     "output_type": "execute_result"
    }
   ],
   "source": [
    "df.head(10)"
   ]
  },
  {
   "cell_type": "code",
   "execution_count": 33,
   "metadata": {},
   "outputs": [
    {
     "data": {
      "text/plain": [
       "stn_code                              float64\n",
       "state                                  object\n",
       "location                               object\n",
       "type                                   object\n",
       "so2                                   float64\n",
       "no2                                   float64\n",
       "rspm                                  float64\n",
       "spm                                   float64\n",
       "location_monitoring_station            object\n",
       "date                           datetime64[ns]\n",
       "dtype: object"
      ]
     },
     "execution_count": 33,
     "metadata": {},
     "output_type": "execute_result"
    }
   ],
   "source": [
    "df.dtypes"
   ]
  },
  {
   "cell_type": "code",
   "execution_count": 34,
   "metadata": {},
   "outputs": [],
   "source": [
    "from sklearn import preprocessing\n",
    "le = preprocessing.LabelEncoder()\n",
    "\n",
    "stn_code_encoder = preprocessing.LabelEncoder()\n",
    "state_encoder = preprocessing.LabelEncoder()\n",
    "location_encoder = preprocessing.LabelEncoder()\n",
    "type_encoder = preprocessing.LabelEncoder()\n",
    "so2_encoder = preprocessing.LabelEncoder()\n",
    "no2_encoder = preprocessing.LabelEncoder()\n",
    "rspm_encoder = preprocessing.LabelEncoder()\n",
    "spm_encoder = preprocessing.LabelEncoder()\n",
    "location_monitoring_station_encoder = preprocessing.LabelEncoder()\n",
    "#date_encoder = preprocessing.LabelEncoder()\n",
    "\n",
    "df[\"stn_code\"] = stn_code_encoder.fit_transform(df[\"stn_code\"])\n",
    "df[\"state\"] = state_encoder.fit_transform(df[\"state\"])\n",
    "df[\"location\"] = location_encoder.fit_transform(df[\"location\"])\n",
    "df[\"type\"] = type_encoder.fit_transform(df[\"type\"])\n",
    "df[\"so2\"] = so2_encoder.fit_transform(df[\"so2\"])\n",
    "df[\"no2\"] = no2_encoder.fit_transform(df[\"no2\"])\n",
    "df[\"rspm\"]= rspm_encoder.fit_transform(df[\"rspm\"])\n",
    "df[\"spm\"] = spm_encoder.fit_transform(df[\"spm\"])\n",
    "df[\"location_monitoring_station\"] = location_monitoring_station_encoder.fit_transform(df[\"location_monitoring_station\"])\n",
    "#df[\"date\"] = date_encoder.fit_transform(df[\"date\"])\n",
    "\n",
    "df[\"date\"] = df[\"date\"].apply(lambda x: x.timestamp())\n"
   ]
  },
  {
   "cell_type": "code",
   "execution_count": 35,
   "metadata": {},
   "outputs": [],
   "source": [
    "from sklearn.model_selection import train_test_split\n",
    "\n",
    "y = df[\"so2\"]\n",
    "x = df[[\"state\",\"type\", \"date\"]]\n",
    "# x = df[[\"stn_code\",\"state\",\"location\",\"type\",\"location_monitoring_station\",\"date\"]]\n",
    "\n",
    "x_train, x_test, y_train, y_test = train_test_split(x, y, test_size=0.2, random_state=0)\n"
   ]
  },
  {
   "cell_type": "code",
   "execution_count": 36,
   "metadata": {},
   "outputs": [],
   "source": [
    "from sklearn.preprocessing import StandardScaler\n",
    "scaler = StandardScaler()\n",
    "scaled_train_X = scaler.fit_transform(x_train)\n",
    "scaled_train_X = pd.DataFrame(scaled_train_X, columns=x_train.columns)\n",
    "scaled_test_X = scaler.transform(x_test)\n",
    "scaled_test_X = pd.DataFrame(scaled_test_X, columns=x_test.columns)"
   ]
  },
  {
   "cell_type": "code",
   "execution_count": 37,
   "metadata": {},
   "outputs": [],
   "source": [
    "all_params={\n",
    "    \"learning_rate\":[0.05,0.10,0.15,0.20,0.25,0.30],\n",
    "    \"max_depth\":[3,4,5,6,8,10,12,15],\n",
    "    \"min_child_weight\":[1,3,5,7],\n",
    "    \"gamma\":[0.0,0.1,0.2,0.3,0.4],\n",
    "    \"colsample_bytree\":[0.3,0.4,0.5,0.7]\n",
    "}"
   ]
  },
  {
   "cell_type": "code",
   "execution_count": 38,
   "metadata": {},
   "outputs": [],
   "source": [
    "from xgboost import XGBRegressor\n",
    "xgb_regressor = XGBRegressor()\n",
    "\n",
    "xgb_regressor.fit(x_train,y_train)\n",
    "\n",
    "xgb_predictions = xgb_regressor.predict(x_test)"
   ]
  },
  {
   "cell_type": "code",
   "execution_count": 39,
   "metadata": {},
   "outputs": [
    {
     "name": "stdout",
     "output_type": "stream",
     "text": [
      "39.862082163890946\n",
      "0.1964817489629268\n",
      "24.905883117816614\n"
     ]
    }
   ],
   "source": [
    "from sklearn.metrics import mean_squared_error, r2_score, mean_absolute_error\n",
    "\n",
    "xgb_error = mean_squared_error(y_test, xgb_predictions, squared=False)\n",
    "xgb_r2score= r2_score(y_test, xgb_predictions)\n",
    "xgb_mean_absolute_error = mean_absolute_error(y_test, xgb_predictions)\n",
    "\n",
    "print(xgb_error)\n",
    "print(xgb_r2score)\n",
    "print(xgb_mean_absolute_error)"
   ]
  },
  {
   "cell_type": "code",
   "execution_count": 40,
   "metadata": {},
   "outputs": [
    {
     "data": {
      "text/plain": [
       "array([43.308434], dtype=float32)"
      ]
     },
     "execution_count": 40,
     "metadata": {},
     "output_type": "execute_result"
    }
   ],
   "source": [
    "from datetime import datetime\n",
    "\n",
    "def predict_so2(state, type, year):\n",
    "    new_df = pd.DataFrame()\n",
    "    new_df[\"state\"] = [state]\n",
    "    new_df[\"type\"] = [type]\n",
    "    new_df[\"date\"] = [datetime(year, 1, 1).timestamp()]\n",
    "\n",
    "    new_df[\"state\"] = state_encoder.transform(new_df[\"state\"])\n",
    "    new_df[\"type\"] = type_encoder.transform(new_df[\"type\"])\n",
    "\n",
    "    so2_prediction = xgb_regressor.predict(new_df)\n",
    "\n",
    "    return so2_prediction\n",
    "\n",
    "predict_so2(\"Andhra Pradesh\", \"Industrial Area\", 2050)"
   ]
  },
  {
   "cell_type": "code",
   "execution_count": 41,
   "metadata": {},
   "outputs": [
    {
     "name": "stdout",
     "output_type": "stream",
     "text": [
      "2014 [103.42783]\n",
      "2015 [65.19109]\n",
      "2016 [43.308434]\n",
      "2017 [43.308434]\n",
      "2018 [43.308434]\n",
      "2019 [43.308434]\n",
      "2020 [43.308434]\n",
      "2021 [43.308434]\n",
      "2022 [43.308434]\n",
      "2023 [43.308434]\n",
      "2024 [43.308434]\n",
      "2025 [43.308434]\n"
     ]
    }
   ],
   "source": [
    "for number in range(2014, 2026):\n",
    "    so2_pred = predict_so2(\"Andhra Pradesh\", \"Industrial Area\", number)\n",
    "    print(number, so2_pred)"
   ]
  },
  {
   "cell_type": "code",
   "execution_count": 43,
   "metadata": {},
   "outputs": [
    {
     "name": "stdout",
     "output_type": "stream",
     "text": [
      "2014 [117.7093]\n",
      "2015 [49.451138]\n",
      "2016 [32.778053]\n",
      "2017 [32.778053]\n",
      "2018 [32.778053]\n",
      "2019 [32.778053]\n",
      "2020 [32.778053]\n",
      "2021 [32.778053]\n",
      "2022 [32.778053]\n",
      "2023 [32.778053]\n",
      "2024 [32.778053]\n",
      "2025 [32.778053]\n"
     ]
    }
   ],
   "source": [
    "#Residential and others\n",
    "for number in range(2014, 2026):\n",
    "    so2_pred = predict_so2(\"Andhra Pradesh\", \"Residential and others\", number)\n",
    "    print(number, so2_pred)"
   ]
  },
  {
   "cell_type": "code",
   "execution_count": 44,
   "metadata": {},
   "outputs": [
    {
     "name": "stdout",
     "output_type": "stream",
     "text": [
      "43.010224808666315\n",
      "0.06455294753742014\n",
      "24.905883117816614\n"
     ]
    }
   ],
   "source": [
    "from sklearn.ensemble import RandomForestRegressor\n",
    "\n",
    "RF_regressor = RandomForestRegressor()\n",
    "RF_regressor.fit(x_train, y_train)\n",
    "RF_predictions = RF_regressor.predict(x_test)\n",
    "\n",
    "RF_error = mean_squared_error(y_test, RF_predictions, squared=False)\n",
    "RF_r2score = r2_score(y_test, RF_predictions)\n",
    "RF_mean_absolute_error = mean_absolute_error(y_test, xgb_predictions)\n",
    "\n",
    "print(RF_error)\n",
    "print(RF_r2score)\n",
    "print(RF_mean_absolute_error)"
   ]
  },
  {
   "cell_type": "code",
   "execution_count": 45,
   "metadata": {},
   "outputs": [],
   "source": [
    "# 4. Set the `tensorflow` pseudo-random generator at a fixed value\n",
    "import tensorflow as tf\n",
    "tf.random.set_seed(seed_value)\n",
    "# for later versions: \n",
    "# tf.compat.v1.set_random_seed(seed_value)\n",
    "\n",
    "# 5. Configure a new global `tensorflow` session\n",
    "from keras import backend as K\n",
    "session_conf = tf.compat.v1.ConfigProto(intra_op_parallelism_threads=1, inter_op_parallelism_threads=1)\n",
    "sess = tf.compat.v1.Session(graph=tf.compat.v1.get_default_graph(), config=session_conf)\n",
    "K.set_session(sess)\n",
    "# for later versions:\n",
    "# session_conf = tf.compat.v1.ConfigProto(intra_op_parallelism_threads=1, inter_op_parallelism_threads=1)\n",
    "# sess = tf.compat.v1.Session(graph=tf.compat.v1.get_default_graph(), config=session_conf)\n",
    "# tf.compat.v1.keras.backend.set_session(sess)"
   ]
  },
  {
   "cell_type": "code",
   "execution_count": 46,
   "metadata": {},
   "outputs": [],
   "source": [
    "# Importing the Keras libraries and packages\n",
    "import keras\n",
    "from keras.models import Sequential\n",
    "from keras.layers import Dense, Conv1D, BatchNormalization, ReLU, GlobalAveragePooling1D"
   ]
  },
  {
   "cell_type": "code",
   "execution_count": 47,
   "metadata": {},
   "outputs": [
    {
     "name": "stdout",
     "output_type": "stream",
     "text": [
      "Epoch 1/2\n",
      "1994/1994 [==============================] - 9s 3ms/step - loss: 4105.1504\n",
      "Epoch 2/2\n",
      "1994/1994 [==============================] - 9s 4ms/step - loss: 4105.1445\n"
     ]
    },
    {
     "data": {
      "text/plain": [
       "<keras.callbacks.History at 0x127e7e81b80>"
      ]
     },
     "execution_count": 47,
     "metadata": {},
     "output_type": "execute_result"
    }
   ],
   "source": [
    "# Initialising the ANN\n",
    "ann_classifier = Sequential()\n",
    "\n",
    "ann_classifier.add(Conv1D(filters=32, kernel_size=3,padding=\"same\", input_shape = (3,1)))\n",
    "ann_classifier.add(BatchNormalization())\n",
    "ann_classifier.add(ReLU())\n",
    "\n",
    "ann_classifier.add(Conv1D(filters=32, kernel_size=3,padding=\"same\"))\n",
    "ann_classifier.add(BatchNormalization())\n",
    "ann_classifier.add(ReLU())\n",
    "\n",
    "ann_classifier.add(Conv1D(filters=32, kernel_size=3,padding=\"same\"))\n",
    "ann_classifier.add(BatchNormalization())\n",
    "ann_classifier.add(ReLU())\n",
    "\n",
    "ann_classifier.add(GlobalAveragePooling1D())\n",
    "\n",
    "ann_classifier.add(Dense(1, activation=\"softmax\"))\n",
    "# # Adding the input layer and the first hidden layer\n",
    "# ann_classifier.add(Dense(activation=\"relu\", units=6, kernel_initializer=\"uniform\"))\n",
    "\n",
    "# # Adding the second hidden layer\n",
    "# ann_classifier.add(Dense(activation=\"relu\", input_dim=11, units=6, kernel_initializer=\"uniform\"))\n",
    "\n",
    "# # Adding the output layer\n",
    "# ann_classifier.add(Dense(activation=\"sigmoid\", units=1, kernel_initializer=\"uniform\"))\n",
    "\n",
    "# Compiling the ANN\n",
    "ann_classifier.compile(optimizer = 'adam', loss = 'mse')\n",
    "\n",
    "# Fitting the ANN to the Training set\n",
    "ann_classifier.fit(x_train,y_train,batch_size = 10,\n",
    "    # change to 1000 for final run (300 was better)\n",
    "    epochs=2,\n",
    ")"
   ]
  },
  {
   "cell_type": "code",
   "execution_count": 48,
   "metadata": {},
   "outputs": [
    {
     "name": "stdout",
     "output_type": "stream",
     "text": [
      "156/156 [==============================] - 1s 4ms/step\n"
     ]
    },
    {
     "data": {
      "text/plain": [
       "array([[1.],\n",
       "       [1.],\n",
       "       [1.],\n",
       "       ...,\n",
       "       [1.],\n",
       "       [1.],\n",
       "       [1.]], dtype=float32)"
      ]
     },
     "execution_count": 48,
     "metadata": {},
     "output_type": "execute_result"
    }
   ],
   "source": [
    "ann_predictions = ann_classifier.predict(x_test)\n",
    "ann_predictions "
   ]
  },
  {
   "cell_type": "code",
   "execution_count": 49,
   "metadata": {},
   "outputs": [
    {
     "name": "stdout",
     "output_type": "stream",
     "text": [
      "63.45882817381851\n",
      "-1.0363849661545053\n",
      "45.31581059390048\n"
     ]
    }
   ],
   "source": [
    "ann_error = mean_squared_error(y_test, ann_predictions, squared=False)\n",
    "ann_r2score = r2_score(y_test, ann_predictions)\n",
    "ann_mean_absolute_error = mean_absolute_error(y_test, ann_predictions)\n",
    "\n",
    "print(ann_error)\n",
    "print(ann_r2score)\n",
    "print(ann_mean_absolute_error)"
   ]
  },
  {
   "cell_type": "code",
   "execution_count": 50,
   "metadata": {},
   "outputs": [
    {
     "data": {
      "text/plain": [
       "15121    18\n",
       "1788     98\n",
       "10290    21\n",
       "15672    18\n",
       "22670    28\n",
       "         ..\n",
       "4507     92\n",
       "14985    28\n",
       "24041    58\n",
       "12806    18\n",
       "6271     68\n",
       "Name: so2, Length: 4984, dtype: int64"
      ]
     },
     "execution_count": 50,
     "metadata": {},
     "output_type": "execute_result"
    }
   ],
   "source": [
    "y_test"
   ]
  },
  {
   "cell_type": "code",
   "execution_count": 51,
   "metadata": {},
   "outputs": [
    {
     "data": {
      "text/html": [
       "<div>\n",
       "<style scoped>\n",
       "    .dataframe tbody tr th:only-of-type {\n",
       "        vertical-align: middle;\n",
       "    }\n",
       "\n",
       "    .dataframe tbody tr th {\n",
       "        vertical-align: top;\n",
       "    }\n",
       "\n",
       "    .dataframe thead th {\n",
       "        text-align: right;\n",
       "    }\n",
       "</style>\n",
       "<table border=\"1\" class=\"dataframe\">\n",
       "  <thead>\n",
       "    <tr style=\"text-align: right;\">\n",
       "      <th></th>\n",
       "      <th>state</th>\n",
       "      <th>type</th>\n",
       "      <th>date</th>\n",
       "    </tr>\n",
       "  </thead>\n",
       "  <tbody>\n",
       "    <tr>\n",
       "      <th>16430</th>\n",
       "      <td>0</td>\n",
       "      <td>3</td>\n",
       "      <td>1.347840e+09</td>\n",
       "    </tr>\n",
       "    <tr>\n",
       "      <th>25354</th>\n",
       "      <td>0</td>\n",
       "      <td>0</td>\n",
       "      <td>1.428365e+09</td>\n",
       "    </tr>\n",
       "    <tr>\n",
       "      <th>18404</th>\n",
       "      <td>0</td>\n",
       "      <td>0</td>\n",
       "      <td>1.362701e+09</td>\n",
       "    </tr>\n",
       "    <tr>\n",
       "      <th>25250</th>\n",
       "      <td>0</td>\n",
       "      <td>0</td>\n",
       "      <td>1.429402e+09</td>\n",
       "    </tr>\n",
       "    <tr>\n",
       "      <th>17848</th>\n",
       "      <td>0</td>\n",
       "      <td>3</td>\n",
       "      <td>1.370304e+09</td>\n",
       "    </tr>\n",
       "    <tr>\n",
       "      <th>...</th>\n",
       "      <td>...</td>\n",
       "      <td>...</td>\n",
       "      <td>...</td>\n",
       "    </tr>\n",
       "    <tr>\n",
       "      <th>23509</th>\n",
       "      <td>0</td>\n",
       "      <td>0</td>\n",
       "      <td>1.405987e+09</td>\n",
       "    </tr>\n",
       "    <tr>\n",
       "      <th>17645</th>\n",
       "      <td>0</td>\n",
       "      <td>3</td>\n",
       "      <td>1.368403e+09</td>\n",
       "    </tr>\n",
       "    <tr>\n",
       "      <th>10659</th>\n",
       "      <td>0</td>\n",
       "      <td>2</td>\n",
       "      <td>1.230941e+09</td>\n",
       "    </tr>\n",
       "    <tr>\n",
       "      <th>13064</th>\n",
       "      <td>0</td>\n",
       "      <td>3</td>\n",
       "      <td>1.284595e+09</td>\n",
       "    </tr>\n",
       "    <tr>\n",
       "      <th>5369</th>\n",
       "      <td>0</td>\n",
       "      <td>5</td>\n",
       "      <td>1.178496e+09</td>\n",
       "    </tr>\n",
       "  </tbody>\n",
       "</table>\n",
       "<p>19934 rows × 3 columns</p>\n",
       "</div>"
      ],
      "text/plain": [
       "       state  type          date\n",
       "16430      0     3  1.347840e+09\n",
       "25354      0     0  1.428365e+09\n",
       "18404      0     0  1.362701e+09\n",
       "25250      0     0  1.429402e+09\n",
       "17848      0     3  1.370304e+09\n",
       "...      ...   ...           ...\n",
       "23509      0     0  1.405987e+09\n",
       "17645      0     3  1.368403e+09\n",
       "10659      0     2  1.230941e+09\n",
       "13064      0     3  1.284595e+09\n",
       "5369       0     5  1.178496e+09\n",
       "\n",
       "[19934 rows x 3 columns]"
      ]
     },
     "execution_count": 51,
     "metadata": {},
     "output_type": "execute_result"
    }
   ],
   "source": [
    "x_train"
   ]
  },
  {
   "cell_type": "code",
   "execution_count": 52,
   "metadata": {},
   "outputs": [
    {
     "data": {
      "text/plain": [
       "1.0"
      ]
     },
     "execution_count": 52,
     "metadata": {},
     "output_type": "execute_result"
    }
   ],
   "source": [
    "from datetime import datetime\n",
    "\n",
    "def predict_so2(state, type, year):\n",
    "    new_df = pd.DataFrame()\n",
    "    new_df[\"state\"] = [state]\n",
    "    new_df[\"type\"] = [type]\n",
    "    new_df[\"date\"] = [datetime(year, 1, 1).timestamp()]\n",
    "\n",
    "    new_df[\"state\"] = state_encoder.transform(new_df[\"state\"])\n",
    "    new_df[\"type\"] = type_encoder.transform(new_df[\"type\"])\n",
    "\n",
    "    so2_prediction = ann_classifier.predict(new_df, verbose=0)[0][0]\n",
    "\n",
    "    return so2_prediction\n",
    "\n",
    "predict_so2(\"Andhra Pradesh\", \"Industrial Area\", 2050)"
   ]
  },
  {
   "cell_type": "code",
   "execution_count": 53,
   "metadata": {},
   "outputs": [
    {
     "name": "stdout",
     "output_type": "stream",
     "text": [
      "2014 1.0\n",
      "2015 1.0\n",
      "2016 1.0\n",
      "2017 1.0\n",
      "2018 1.0\n",
      "2019 1.0\n",
      "2020 1.0\n",
      "2021 1.0\n",
      "2022 1.0\n",
      "2023 1.0\n",
      "2024 1.0\n",
      "2025 1.0\n"
     ]
    }
   ],
   "source": [
    "for number in range(2014, 2026):\n",
    "    so2_pred = predict_so2(\"Andhra Pradesh\", \"Industrial Area\", number)\n",
    "    print(number, so2_pred)"
   ]
  },
  {
   "cell_type": "code",
   "execution_count": 54,
   "metadata": {},
   "outputs": [],
   "source": [
    "y1 = df[\"no2\"]\n",
    "x1 = df[[\"state\",\"type\", \"date\"]]\n",
    "# x = df[[\"stn_code\",\"state\",\"location\",\"type\",\"location_monitoring_station\",\"date\"]]\n",
    "\n",
    "x1_train, x1_test, y1_train, y1_test = train_test_split(x1, y1, test_size=0.2, random_state=0)"
   ]
  },
  {
   "cell_type": "code",
   "execution_count": 63,
   "metadata": {},
   "outputs": [
    {
     "name": "stdout",
     "output_type": "stream",
     "text": [
      "88.66406013022124\n",
      "0.3123953142135444\n",
      "66.6042675587377\n"
     ]
    }
   ],
   "source": [
    "from xgboost import XGBRegressor\n",
    "xgb_regressor1 = XGBRegressor()\n",
    "\n",
    "xgb_regressor1.fit(x1_train,y1_train)\n",
    "\n",
    "xgb_predictions1 = xgb_regressor1.predict(x1_test)\n",
    "\n",
    "from sklearn.metrics import mean_squared_error, r2_score, mean_absolute_error\n",
    "\n",
    "xgb_error1 = mean_squared_error(y1_test, xgb_predictions1, squared=False)\n",
    "xgb_r2score1 = r2_score(y1_test, xgb_predictions1)\n",
    "xgb_mean_absolute_error1 = mean_absolute_error(y1_test, xgb_predictions1)\n",
    "\n",
    "print(xgb_error1)\n",
    "print(xgb_r2score1)\n",
    "print(xgb_mean_absolute_error1)"
   ]
  },
  {
   "cell_type": "code",
   "execution_count": 64,
   "metadata": {},
   "outputs": [
    {
     "data": {
      "text/plain": [
       "array([236.49365], dtype=float32)"
      ]
     },
     "execution_count": 64,
     "metadata": {},
     "output_type": "execute_result"
    }
   ],
   "source": [
    "from datetime import datetime\n",
    "\n",
    "def predict_no2(state, type, year):\n",
    "    new_df1 = pd.DataFrame()\n",
    "    new_df1[\"state\"] = [state]\n",
    "    new_df1[\"type\"] = [type]\n",
    "    new_df1[\"date\"] = [datetime(year, 1, 1).timestamp()]\n",
    "\n",
    "    new_df1[\"state\"] = state_encoder.transform(new_df1[\"state\"])\n",
    "    new_df1[\"type\"] = type_encoder.transform(new_df1[\"type\"])\n",
    "\n",
    "    no2_prediction = xgb_regressor1.predict(new_df1)\n",
    "\n",
    "    return no2_prediction\n",
    "\n",
    "predict_no2(\"Andhra Pradesh\", \"Industrial Area\", 2050)"
   ]
  },
  {
   "cell_type": "code",
   "execution_count": 65,
   "metadata": {},
   "outputs": [
    {
     "name": "stdout",
     "output_type": "stream",
     "text": [
      "2014 [126.203926]\n",
      "2015 [128.8642]\n",
      "2016 [236.49365]\n",
      "2017 [236.49365]\n",
      "2018 [236.49365]\n",
      "2019 [236.49365]\n",
      "2020 [236.49365]\n",
      "2021 [236.49365]\n",
      "2022 [236.49365]\n",
      "2023 [236.49365]\n",
      "2024 [236.49365]\n",
      "2025 [236.49365]\n"
     ]
    }
   ],
   "source": [
    "for number in range(2014, 2026):\n",
    "    no2_pred = predict_no2(\"Andhra Pradesh\", \"Industrial Area\", number)\n",
    "    print(number, no2_pred)"
   ]
  },
  {
   "cell_type": "code",
   "execution_count": 58,
   "metadata": {},
   "outputs": [
    {
     "name": "stdout",
     "output_type": "stream",
     "text": [
      "2014 [127.96514]\n",
      "2015 [137.2465]\n",
      "2016 [221.12314]\n",
      "2017 [221.12314]\n",
      "2018 [221.12314]\n",
      "2019 [221.12314]\n",
      "2020 [221.12314]\n",
      "2021 [221.12314]\n",
      "2022 [221.12314]\n",
      "2023 [221.12314]\n",
      "2024 [221.12314]\n",
      "2025 [221.12314]\n"
     ]
    }
   ],
   "source": [
    "for number in range(2014, 2026):\n",
    "    no2_pred = predict_no2(\"Andhra Pradesh\", \"Residential and others\", number)\n",
    "    print(number, no2_pred)"
   ]
  },
  {
   "cell_type": "code",
   "execution_count": 59,
   "metadata": {},
   "outputs": [],
   "source": [
    "y2 = df[\"spm\"]\n",
    "x2 = df[[\"state\",\"type\", \"date\"]]\n",
    "# x = df[[\"stn_code\",\"state\",\"location\",\"type\",\"location_monitoring_station\",\"date\"]]\n",
    "\n",
    "x2_train, x2_test, y2_train, y2_test = train_test_split(x2, y2, test_size=0.2, random_state=0)"
   ]
  },
  {
   "cell_type": "code",
   "execution_count": 60,
   "metadata": {},
   "outputs": [
    {
     "name": "stdout",
     "output_type": "stream",
     "text": [
      "90.92765900467684\n",
      "0.26353065394353237\n",
      "63.094601513390366\n"
     ]
    }
   ],
   "source": [
    "from xgboost import XGBRegressor\n",
    "xgb_regressor2 = XGBRegressor()\n",
    "\n",
    "xgb_regressor2.fit(x2_train,y2_train)\n",
    "\n",
    "xgb_predictions2 = xgb_regressor2.predict(x2_test)\n",
    "\n",
    "from sklearn.metrics import mean_squared_error, r2_score, mean_absolute_error\n",
    "\n",
    "xgb_error2 = mean_squared_error(y2_test, xgb_predictions2, squared=False)\n",
    "xgb_r2score2 = r2_score(y2_test, xgb_predictions2)\n",
    "xgb_mean_absolute_error2 = mean_absolute_error(y2_test, xgb_predictions2)\n",
    "\n",
    "print(xgb_error2)\n",
    "print(xgb_r2score2)\n",
    "print(xgb_mean_absolute_error2)"
   ]
  },
  {
   "cell_type": "code",
   "execution_count": 61,
   "metadata": {},
   "outputs": [
    {
     "data": {
      "text/plain": [
       "array([229.82849], dtype=float32)"
      ]
     },
     "execution_count": 61,
     "metadata": {},
     "output_type": "execute_result"
    }
   ],
   "source": [
    "from datetime import datetime\n",
    "\n",
    "def predict_spm(state, type, year):\n",
    "    new_df2 = pd.DataFrame()\n",
    "    new_df2[\"state\"] = [state]\n",
    "    new_df2[\"type\"] = [type]\n",
    "    new_df2[\"date\"] = [datetime(year, 1, 1).timestamp()]\n",
    "\n",
    "    new_df2[\"state\"] = state_encoder.transform(new_df2[\"state\"])\n",
    "    new_df2[\"type\"] = type_encoder.transform(new_df2[\"type\"])\n",
    "\n",
    "    spm_prediction = xgb_regressor2.predict(new_df2)\n",
    "\n",
    "    return spm_prediction\n",
    "\n",
    "predict_spm(\"Andhra Pradesh\", \"Industrial Area\", 2050)"
   ]
  },
  {
   "cell_type": "code",
   "execution_count": 62,
   "metadata": {},
   "outputs": [
    {
     "name": "stdout",
     "output_type": "stream",
     "text": [
      "2014 [226.03606]\n",
      "2015 [228.57814]\n",
      "2016 [229.82849]\n",
      "2017 [229.82849]\n",
      "2018 [229.82849]\n",
      "2019 [229.82849]\n",
      "2020 [229.82849]\n",
      "2021 [229.82849]\n",
      "2022 [229.82849]\n",
      "2023 [229.82849]\n",
      "2024 [229.82849]\n",
      "2025 [229.82849]\n"
     ]
    }
   ],
   "source": [
    "for number in range(2014, 2026):\n",
    "    spm_pred = predict_spm(\"Andhra Pradesh\", \"Industrial Area\", number)\n",
    "    print(number, spm_pred)"
   ]
  },
  {
   "cell_type": "code",
   "execution_count": 66,
   "metadata": {},
   "outputs": [
    {
     "name": "stdout",
     "output_type": "stream",
     "text": [
      "2014 [248.66635]\n",
      "2015 [251.20844]\n",
      "2016 [253.93285]\n",
      "2017 [253.93285]\n",
      "2018 [253.93285]\n",
      "2019 [253.93285]\n",
      "2020 [253.93285]\n",
      "2021 [253.93285]\n",
      "2022 [253.93285]\n",
      "2023 [253.93285]\n",
      "2024 [253.93285]\n",
      "2025 [253.93285]\n"
     ]
    }
   ],
   "source": [
    "for number in range(2014, 2026):\n",
    "    spm_pred = predict_spm(\"Andhra Pradesh\", \"Residential and others\", number)\n",
    "    print(number, spm_pred)"
   ]
  },
  {
   "cell_type": "code",
   "execution_count": 67,
   "metadata": {},
   "outputs": [],
   "source": [
    "y3 = df[\"rspm\"]\n",
    "x3 = df[[\"state\",\"type\", \"date\"]]\n",
    "# x = df[[\"stn_code\",\"state\",\"location\",\"type\",\"location_monitoring_station\",\"date\"]]\n",
    "\n",
    "x3_train, x3_test, y3_train, y3_test = train_test_split(x3, y3, test_size=0.2, random_state=0)"
   ]
  },
  {
   "cell_type": "code",
   "execution_count": 68,
   "metadata": {},
   "outputs": [
    {
     "name": "stdout",
     "output_type": "stream",
     "text": [
      "77.13641395009007\n",
      "0.2222262269761648\n",
      "61.12032978033369\n"
     ]
    }
   ],
   "source": [
    "from xgboost import XGBRegressor\n",
    "xgb_regressor3 = XGBRegressor()\n",
    "\n",
    "xgb_regressor3.fit(x3_train,y3_train)\n",
    "\n",
    "xgb_predictions3 = xgb_regressor3.predict(x3_test)\n",
    "\n",
    "from sklearn.metrics import mean_squared_error, r2_score, mean_absolute_error\n",
    "\n",
    "xgb_error3 = mean_squared_error(y3_test, xgb_predictions3, squared=False)\n",
    "xgb_r2score3 = r2_score(y3_test, xgb_predictions3)\n",
    "xgb_mean_absolute_error3 = mean_absolute_error(y3_test, xgb_predictions3)\n",
    "\n",
    "print(xgb_error3)\n",
    "print(xgb_r2score3)\n",
    "print(xgb_mean_absolute_error3)"
   ]
  },
  {
   "cell_type": "code",
   "execution_count": 69,
   "metadata": {},
   "outputs": [
    {
     "data": {
      "text/plain": [
       "array([173.9401], dtype=float32)"
      ]
     },
     "execution_count": 69,
     "metadata": {},
     "output_type": "execute_result"
    }
   ],
   "source": [
    "from datetime import datetime\n",
    "\n",
    "def predict_rspm(state, type, year):\n",
    "    new_df3 = pd.DataFrame()\n",
    "    new_df3[\"state\"] = [state]\n",
    "    new_df3[\"type\"] = [type]\n",
    "    new_df3[\"date\"] = [datetime(year, 1, 1).timestamp()]\n",
    "\n",
    "    new_df3[\"state\"] = state_encoder.transform(new_df3[\"state\"])\n",
    "    new_df3[\"type\"] = type_encoder.transform(new_df3[\"type\"])\n",
    "\n",
    "    rspm_prediction = xgb_regressor3.predict(new_df3)\n",
    "\n",
    "    return rspm_prediction\n",
    "\n",
    "predict_rspm(\"Andhra Pradesh\", \"Industrial Area\", 2050)"
   ]
  },
  {
   "cell_type": "code",
   "execution_count": 70,
   "metadata": {},
   "outputs": [
    {
     "name": "stdout",
     "output_type": "stream",
     "text": [
      "2014 [135.09995]\n",
      "2015 [106.29168]\n",
      "2016 [173.9401]\n",
      "2017 [173.9401]\n",
      "2018 [173.9401]\n",
      "2019 [173.9401]\n",
      "2020 [173.9401]\n",
      "2021 [173.9401]\n",
      "2022 [173.9401]\n",
      "2023 [173.9401]\n",
      "2024 [173.9401]\n",
      "2025 [173.9401]\n"
     ]
    }
   ],
   "source": [
    "for number in range(2014, 2026):\n",
    "    rspm_pred = predict_rspm(\"Andhra Pradesh\", \"Industrial Area\", number)\n",
    "    print(number, rspm_pred)"
   ]
  },
  {
   "cell_type": "code",
   "execution_count": 71,
   "metadata": {},
   "outputs": [
    {
     "name": "stdout",
     "output_type": "stream",
     "text": [
      "2014 [185.22449]\n",
      "2015 [136.66829]\n",
      "2016 [178.78937]\n",
      "2017 [178.78937]\n",
      "2018 [178.78937]\n",
      "2019 [178.78937]\n",
      "2020 [178.78937]\n",
      "2021 [178.78937]\n",
      "2022 [178.78937]\n",
      "2023 [178.78937]\n",
      "2024 [178.78937]\n",
      "2025 [178.78937]\n"
     ]
    }
   ],
   "source": [
    "for number in range(2014, 2026):\n",
    "    rspm_pred = predict_rspm(\"Andhra Pradesh\", \"Residential and others\", number)\n",
    "    print(number, rspm_pred)"
   ]
  }
 ],
 "metadata": {
  "kernelspec": {
   "display_name": "Python 3.9.12 ('base')",
   "language": "python",
   "name": "python3"
  },
  "language_info": {
   "codemirror_mode": {
    "name": "ipython",
    "version": 3
   },
   "file_extension": ".py",
   "mimetype": "text/x-python",
   "name": "python",
   "nbconvert_exporter": "python",
   "pygments_lexer": "ipython3",
   "version": "3.9.12"
  },
  "orig_nbformat": 4,
  "vscode": {
   "interpreter": {
    "hash": "39388ffee12d7de75cab8b8fefc2fab0c4a41daa13e524bd04fe37d1a42dacc0"
   }
  }
 },
 "nbformat": 4,
 "nbformat_minor": 2
}
